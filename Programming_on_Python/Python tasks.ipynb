{
 "cells": [
  {
   "cell_type": "markdown",
   "metadata": {},
   "source": [
    "## ЗАДАЧА\n",
    "Жители страны Малевии часто экспериментируют с планировкой комнат. Комнаты бывают треугольные, прямоугольные и круглые. Чтобы быстро вычислять жилплощадь, требуется написать программу, на вход которой подаётся тип фигуры комнаты и соответствующие параметры, которая бы выводила площадь получившейся комнаты.\n",
    "Для числа π в стране Малевии используют значение 3.14.\n",
    "\n",
    "Формат ввода, который используют Малевийцы:\n",
    "\n",
    "```\n",
    "треугольник\n",
    "a\n",
    "b\n",
    "c\n",
    "```\n",
    "где a, b и c — длины сторон треугольника\n",
    "```\n",
    "прямоугольник\n",
    "a\n",
    "b\n",
    "```\n",
    "где a и b — длины сторон прямоугольника\n",
    "```\n",
    "круг\n",
    "r\n",
    "```\n",
    "где r — радиус окружности"
   ]
  },
  {
   "cell_type": "code",
   "execution_count": 12,
   "metadata": {},
   "outputs": [
    {
     "name": "stdout",
     "output_type": "stream",
     "text": [
      "треугольник\n",
      "5\n",
      "4\n",
      "3\n",
      "6.0\n"
     ]
    }
   ],
   "source": [
    "fig = input()\n",
    "pi = 3.14\n",
    "if fig == 'треугольник':\n",
    "    a = float(input())\n",
    "    b = float(input())\n",
    "    c = float(input())\n",
    "    p = (a + b + c) / 2\n",
    "    S = (p * (p - a) * (p - b) * (p - c)) ** 0.5\n",
    "    print(S)\n",
    "elif fig == 'прямоугольник':\n",
    "    a = float(input())\n",
    "    b = float(input())\n",
    "    print(a * b)\n",
    "elif fig == 'круг':\n",
    "    r = float(input())\n",
    "    print(pi * (r ** 2))\n",
    "else:\n",
    "    print('error')"
   ]
  },
  {
   "cell_type": "markdown",
   "metadata": {},
   "source": [
    "## ЗАДАЧА \n",
    "Напишите программу, которая получает на вход три целых числа, по одному числу в строке, и выводит на консоль в три строки сначала максимальное, потом минимальное, после чего оставшееся число.\n",
    "\n",
    "На ввод могут подаваться и повторяющиеся числа."
   ]
  },
  {
   "cell_type": "code",
   "execution_count": 13,
   "metadata": {},
   "outputs": [
    {
     "name": "stdout",
     "output_type": "stream",
     "text": [
      "65\n",
      "4\n",
      "76\n",
      "76\n",
      "4\n",
      "65\n"
     ]
    }
   ],
   "source": [
    "a = int(input())\n",
    "b = int(input())\n",
    "c = int(input())\n",
    "r1 = max(a, b, c)\n",
    "r2 = min(a, b, c)\n",
    "if a == r1 and b == r2:\n",
    "    print(a)\n",
    "    print(b)\n",
    "    print(c)\n",
    "elif b == r1 and a == r2:\n",
    "    print(b)\n",
    "    print(a)\n",
    "    print(c)\n",
    "elif b == r1 and c == r2:\n",
    "    print(b)\n",
    "    print(c)\n",
    "    print(a)\n",
    "elif c == r1 and b == r2:\n",
    "    print(c)\n",
    "    print(b)\n",
    "    print(a)\n",
    "elif a == r1 and c == r2:\n",
    "    print(a)\n",
    "    print(c)\n",
    "    print(b)\n",
    "elif c == r1 and a == r2:\n",
    "    print(c)\n",
    "    print(a)\n",
    "    print(b)"
   ]
  },
  {
   "cell_type": "markdown",
   "metadata": {},
   "source": [
    "## ЗАДАЧА\n",
    "\n",
    "Напишите программу, считывающую с пользовательского ввода целое число n (неотрицательное), выводящее это число в консоль вместе с правильным образом изменённым словом \"программист\", для того, чтобы робот мог нормально общаться с людьми, например: 1 программист, 2 программиста, 5 программистов.\n",
    "\n",
    "В комнате может быть очень много программистов. Проверьте, что ваша программа правильно обработает все случаи, как минимум до 1000 человек."
   ]
  },
  {
   "cell_type": "code",
   "execution_count": 1,
   "metadata": {},
   "outputs": [
    {
     "name": "stdout",
     "output_type": "stream",
     "text": [
      "76\n",
      "76 программистов\n"
     ]
    }
   ],
   "source": [
    "i = int(input())\n",
    "c = int(str(i)[-1])\n",
    "if len(str(i)) == 2 and int(str(i)[0]) == 1:\n",
    "    print(str(i) + ' программистов')\n",
    "elif len(str(i)) == 3 and int(str(i)[0:2]) == 11 or len(str(i)) == 3 and int(str(i)[1:3]) == 11 or len(str(i)) == 3 and int(str(i)[1]) == 1:\n",
    "    print(str(i) + ' программистов')\n",
    "elif c == 0 or 5 <= c <= 9:\n",
    "    print(str(i) + ' программистов')\n",
    "elif c == 1:\n",
    "    print(str(i) + ' программист')\n",
    "elif 1 < c < 5:\n",
    "    print(str(i) + ' программиста')"
   ]
  },
  {
   "cell_type": "markdown",
   "metadata": {},
   "source": [
    "## ЗАДАЧА\n",
    "\n",
    "Паша очень любит кататься на общественном транспорте, а получая билет, сразу проверяет, счастливый ли ему попался. Билет считается счастливым, если сумма первых трех цифр совпадает с суммой последних трех цифр номера билета.\n",
    "\n",
    "Однако Паша очень плохо считает в уме, поэтому попросил вас написать программу, которая проверит равенство сумм и выведет \"Счастливый\", если суммы совпадают, и \"Обычный\", если суммы различны.\n",
    "\n",
    "На вход программе подаётся строка из шести цифр."
   ]
  },
  {
   "cell_type": "code",
   "execution_count": 2,
   "metadata": {},
   "outputs": [
    {
     "name": "stdout",
     "output_type": "stream",
     "text": [
      "213321\n",
      "Счастливый\n"
     ]
    }
   ],
   "source": [
    "n = str(input())\n",
    "if int(n[0]) + int(n[1]) + int(n[2]) == int(n[3]) + int(n[4]) + int(n[5]):\n",
    "    print('Счастливый')\n",
    "else:\n",
    "    print('Обычный')"
   ]
  },
  {
   "cell_type": "markdown",
   "metadata": {},
   "source": [
    "## ЗАДАЧА\n",
    "\n",
    "Когда Павел учился в школе, он запоминал таблицу умножения прямоугольными блоками. Для тренировок ему бы очень пригодилась программа, которая показывала бы блок таблицы умножения.\n",
    "\n",
    "Напишите программу, на вход которой даются четыре числа aa, bb, cc и dd, каждое в своей строке. Программа должна вывести фрагмент таблицы умножения для всех чисел отрезка [a;b] на все числа отрезка [c;d].\n",
    "\n",
    "Числа a, b, c и d являются натуральными и не превосходят 10, a <= b, c <= d.\n",
    "\n",
    "Следуйте формату вывода из примера, для разделения элементов внутри строки используйте '\\t' — символ табуляции. \n",
    "\n",
    "Заметьте, что левым столбцом и верхней строкой выводятся сами числа из заданных отрезков — заголовочные столбец и строка таблицы."
   ]
  },
  {
   "cell_type": "code",
   "execution_count": 2,
   "metadata": {},
   "outputs": [
    {
     "name": "stdout",
     "output_type": "stream",
     "text": [
      "1\n",
      "3\n",
      "2\n",
      "4\n",
      "\t2  \t3  \t4  \t\n",
      "1\t2 \t3 \t4 \t\n",
      "2\t4 \t6 \t8 \t\n",
      "3\t6 \t9 \t12 \t\n"
     ]
    }
   ],
   "source": [
    "a = int(input())\n",
    "b = int(input())\n",
    "c = int(input())\n",
    "d = int(input())\n",
    "print('\\t', end='')\n",
    "for j in range(c,d+1):\n",
    "    print(j,' ',end='\\t')\n",
    "print()\n",
    "for i in range(a, b+1):\n",
    "    print(i, end='\\t')\n",
    "    for k in range(c, d+1):\n",
    "        print(i*k, '\\t', end='')\n",
    "    print()"
   ]
  },
  {
   "cell_type": "markdown",
   "metadata": {},
   "source": [
    "## ЗАДАЧА\n",
    "В Институте биоинформатики между информатиками и биологами устраивается соревнование. Победителям соревнования достанется большой и вкусный пирог. В команде биологов a человек, а в команде информатиков — b человек.\n",
    "\n",
    "Нужно заранее разрезать пирог таким образом, чтобы можно было раздать кусочки пирога любой команде, выигравшей соревнование, при этом каждому участнику этой команды должно достаться одинаковое число кусочков пирога. И так как не хочется резать пирог на слишком мелкие кусочки, нужно найти минимальное подходящее число.\n",
    "\n",
    "Напишите программу, которая помогает найти это число.\n",
    "Программа должна считывать размеры команд (два положительных целых числа a и b, каждое число вводится на отдельной строке) и выводить наименьшее число d, которое делится на оба этих числа без остатка."
   ]
  },
  {
   "cell_type": "code",
   "execution_count": 4,
   "metadata": {},
   "outputs": [
    {
     "name": "stdout",
     "output_type": "stream",
     "text": [
      "15\n",
      "15\n",
      "15\n"
     ]
    }
   ],
   "source": [
    "a = int(input())\n",
    "b = int(input())\n",
    "d = 1\n",
    "while d < a*b:\n",
    "    d += 1\n",
    "    if d%a == 0 and d%b == 0:\n",
    "        break\n",
    "print(d)"
   ]
  },
  {
   "cell_type": "markdown",
   "metadata": {},
   "source": [
    "## ЗАДАЧА\n",
    "\n",
    "Узнав, что ДНК не является случайной строкой, только что поступившие в Институт биоинформатики студенты группы информатиков предложили использовать алгоритм сжатия, который сжимает повторяющиеся символы в строке.\n",
    "\n",
    "Кодирование осуществляется следующим образом:\n",
    "s = 'aaaabbсaa' преобразуется в 'a4b2с1a2', то есть группы одинаковых символов исходной строки заменяются на этот символ и количество его повторений в этой позиции строки.\n",
    "\n",
    "Напишите программу, которая считывает строку, кодирует её предложенным алгоритмом и выводит закодированную последовательность на стандартный вывод. Кодирование должно учитывать регистр символов.\n",
    "\n",
    "Sample Input 1:\n",
    "\n",
    "`aaaabbcaa`\n",
    "\n",
    "Sample Output 1:\n",
    "\n",
    "`a4b2c1a2`"
   ]
  },
  {
   "cell_type": "code",
   "execution_count": 3,
   "metadata": {},
   "outputs": [
    {
     "name": "stdout",
     "output_type": "stream",
     "text": [
      "aaaabbcaa\n",
      "a4b2c1a2"
     ]
    }
   ],
   "source": [
    "s = input()\n",
    "cnt = 0\n",
    "k = len(s) - 1\n",
    "j = 1\n",
    "for i in range(len(s)):\n",
    "    if j >= len(s):\n",
    "        if s[i] == s[k]:\n",
    "            cnt +=1\n",
    "            print(s[i]+ str(cnt), end='')\n",
    "        else:\n",
    "            print(s[i]+ str(cnt+1), end='')   \n",
    "    else:\n",
    "        if s[i] == s[j]:\n",
    "            cnt +=1\n",
    "            i+=1\n",
    "            j+=1\n",
    "        else:\n",
    "            print(s[i]+ str(cnt+1), end='')\n",
    "            cnt = 0\n",
    "            j+=1"
   ]
  },
  {
   "cell_type": "markdown",
   "metadata": {},
   "source": [
    "## ЗАДАЧА\n",
    "\n",
    "Напишите программу, на вход которой подаётся список чисел одной строкой. Программа должна для каждого элемента этого списка вывести сумму двух его соседей. Для элементов списка, являющихся крайними, одним из соседей считается элемент, находящий на противоположном конце этого списка. Например, если на вход подаётся список \"1 3 5 6 10\", то на выход ожидается список \"13 6 9 15 7\" (без кавычек).\n",
    "\n",
    "Если на вход пришло только одно число, надо вывести его же.\n",
    "\n",
    "Вывод должен содержать одну строку с числами нового списка, разделёнными пробелом.\n",
    "\n",
    "Sample Input 1:\n",
    "\n",
    "`1 3 5 6 10`\n",
    "\n",
    "Sample Output 1:\n",
    "\n",
    "`13 6 9 15 7`"
   ]
  },
  {
   "cell_type": "code",
   "execution_count": 4,
   "metadata": {},
   "outputs": [
    {
     "name": "stdout",
     "output_type": "stream",
     "text": [
      "1 3 5 6 10\n",
      "13 6 9 15 7\n"
     ]
    }
   ],
   "source": [
    "a = [int(i) for i in input().split()]\n",
    "i = 0\n",
    "if len(a) == 1:\n",
    "    print(*a)\n",
    "else:\n",
    "    if i + 1 < len(a):\n",
    "        b = [a[i - 1] + a[i + 1] for i in range(len(a) - 1)]\n",
    "    b.append(a[i - 2] + a[0])\n",
    "    print(*b)"
   ]
  },
  {
   "cell_type": "markdown",
   "metadata": {},
   "source": [
    "## ЗАДАЧА\n",
    "\n",
    "Напишите программу, которая принимает на вход список чисел в одной строке и выводит на экран в одну строку значения, которые повторяются в нём более одного раза.\n",
    "\n",
    "Для решения задачи может пригодиться метод sort списка.\n",
    "\n",
    "Выводимые числа не должны повторяться, порядок их вывода может быть произвольным.\n",
    "\n",
    "Sample Input 1:\n",
    "\n",
    "`4 8 0 3 4 2 0 3`\n",
    "\n",
    "Sample Output 1:\n",
    "\n",
    "`0 3 4`"
   ]
  },
  {
   "cell_type": "code",
   "execution_count": 5,
   "metadata": {},
   "outputs": [
    {
     "name": "stdout",
     "output_type": "stream",
     "text": [
      "4 8 0 3 4 2 0 3\n",
      "0 3 4\n"
     ]
    }
   ],
   "source": [
    "a = [int(i) for i in input().split()]\n",
    "b = sorted(a)\n",
    "c = []\n",
    "for i in range(len(b) - 1):\n",
    "    if b[i] == b[i + 1]:\n",
    "        c.append(b[i])\n",
    "c = set(c)\n",
    "print(*c)"
   ]
  },
  {
   "cell_type": "markdown",
   "metadata": {},
   "source": [
    "## ЗАДАЧА\n",
    "Напишите программу, которая считывает список чисел lst из первой строки и число x из второй строки, которая выводит все позиции, на которых встречается число x в переданном списке lst.\n",
    "\n",
    "Позиции нумеруются с нуля, если число x не встречается в списке, вывести строку \"Отсутствует\" (без кавычек, с большой буквы).\n",
    "\n",
    "Позиции должны быть выведены в одну строку, по возрастанию абсолютного значения."
   ]
  },
  {
   "cell_type": "code",
   "execution_count": 6,
   "metadata": {},
   "outputs": [
    {
     "name": "stdout",
     "output_type": "stream",
     "text": [
      "5 8 2 7 8 8 2 4\n",
      "8\n",
      "1 4 5\n"
     ]
    }
   ],
   "source": [
    "lst = [int(i) for i in input().split()]\n",
    "x = int(input())\n",
    "count = -1\n",
    "c = []\n",
    "for i in lst:\n",
    "    count += 1\n",
    "    if i == x:\n",
    "        c.append(count)\n",
    "if len(c) == 0:\n",
    "    print(\"Отсутствует\")\n",
    "else:\n",
    "    print(*c)"
   ]
  },
  {
   "cell_type": "markdown",
   "metadata": {},
   "source": [
    "## ЗАДАЧА\n",
    "Напишите программу, на вход которой подаётся прямоугольная матрица в виде последовательности строк, заканчивающихся строкой, содержащей только строку \"end\" (без кавычек)\n",
    "\n",
    "Программа должна вывести матрицу того же размера, у которой каждый элемент в позиции i, j равен сумме элементов первой матрицы на позициях (i-1, j), (i+1, j), (i, j-1), (i, j+1). У крайних символов соседний элемент находится с противоположной стороны матрицы.\n",
    "\n",
    "В случае одной строки/столбца элемент сам себе является соседом по соответствующему направлению.\n",
    "\n",
    "Sample Input 1:\n",
    "```\n",
    "9 5 3\n",
    "0 7 -1\n",
    "-5 2 9\n",
    "end\n",
    "```\n",
    "\n",
    "Sample Output 1:\n",
    "```\n",
    "3 21 22\n",
    "10 6 19\n",
    "20 16 -1\n",
    "```"
   ]
  },
  {
   "cell_type": "code",
   "execution_count": 7,
   "metadata": {},
   "outputs": [
    {
     "name": "stdout",
     "output_type": "stream",
     "text": [
      "9 5 3\n",
      "0 7 -1\n",
      "-5 2 9\n",
      "end\n",
      "3 21 22 \n",
      "10 6 19 \n",
      "20 16 -1 \n"
     ]
    }
   ],
   "source": [
    "l = []\n",
    "while True:\n",
    "    lst = input().split()\n",
    "    if lst[0] == 'end':\n",
    "        break\n",
    "    else:\n",
    "        l.append([int(i) for i in lst])\n",
    "len_i = len(l)    # columns\n",
    "len_j = len(l[0]) # rows\n",
    "temp = []\n",
    "for i in range(len_i):\n",
    "    for j in range(len_j):\n",
    "        temp.append(l[i-1][j] + l[i-len_i+1][j] + l[i][j-1] + l[i][j-len_j+1])   \n",
    "lst_out = [temp[i:i+len_j] for i in range(0, len(temp), len_j)]\n",
    "for i in lst_out:\n",
    "    print(*i, end=' ')\n",
    "    print()"
   ]
  },
  {
   "cell_type": "markdown",
   "metadata": {},
   "source": [
    "## ЗАДАЧА\n",
    "Выведите таблицу размером n×n, заполненную числами от 1 до n<sup>2</sup>  по спирали, выходящей из левого верхнего угла и закрученной по часовой стрелке, как показано в примере (здесь n=5):\n",
    "\n",
    "Sample Input:\n",
    "\n",
    "`5`\n",
    "\n",
    "Sample Output:\n",
    "```\n",
    "1 2 3 4 5\n",
    "16 17 18 19 6\n",
    "15 24 25 20 7\n",
    "14 23 22 21 8\n",
    "13 12 11 10 9\n",
    "```"
   ]
  },
  {
   "cell_type": "code",
   "execution_count": 8,
   "metadata": {},
   "outputs": [
    {
     "name": "stdout",
     "output_type": "stream",
     "text": [
      "7\n",
      "1 2 3 4 5 6 7 \n",
      "24 25 26 27 28 29 8 \n",
      "23 40 41 42 43 30 9 \n",
      "22 39 48 49 44 31 10 \n",
      "21 38 47 46 45 32 11 \n",
      "20 37 36 35 34 33 12 \n",
      "19 18 17 16 15 14 13 \n"
     ]
    }
   ],
   "source": [
    "n = int(input())\n",
    "n2 = n**2\n",
    "m = [[0 * j for j in range(n)] for i in range(n)]\n",
    "count = 1 \n",
    "start = 0\n",
    "end = n\n",
    "for i in range(start, end):\n",
    "    m[start][i] = i + 1\n",
    "    count += 1\n",
    "for j in range(start+1, end):\n",
    "    m[j][end-1] = count\n",
    "    count += 1  \n",
    "for k in range(end-1, start-1, -1):\n",
    "    m[end-1][k] = count - 1\n",
    "    count += 1\n",
    "for x in range(end-2, start, -1):\n",
    "    m[x][start] = count - 1\n",
    "    count += 1\n",
    "while (count - 2) < n2:\n",
    "    start += 1\n",
    "    end -=1\n",
    "    for i in range(start, end):\n",
    "        m[start][i] = count - 1\n",
    "        count += 1\n",
    "    for j in range(start+1, end):\n",
    "        m[j][end-1] = count-1\n",
    "        count += 1  \n",
    "    for k in range(end-2, start-1, -1):\n",
    "        m[end-1][k] = count - 1\n",
    "        count += 1\n",
    "    for x in range(end-2, start, -1):\n",
    "        m[x][start] = count - 1\n",
    "        count += 1\n",
    "else:\n",
    "    for i in m:\n",
    "        print(*i, end=' ')\n",
    "        print()"
   ]
  },
  {
   "cell_type": "markdown",
   "metadata": {},
   "source": [
    "## ЗАДАЧА\n",
    "\n",
    "Напишите функцию modify_list(l), которая принимает на вход список целых чисел, удаляет из него все нечётные значения, а чётные нацело делит на два. Функция не должна ничего возвращать, требуется только изменение переданного списка, например:\n",
    "```python\n",
    "lst = [1, 2, 3, 4, 5, 6]\n",
    "print(modify_list(lst))  # None\n",
    "print(lst)               # [1, 2, 3]\n",
    "modify_list(lst)\n",
    "print(lst)               # [1]\n",
    "\n",
    "lst = [10, 5, 8, 3]\n",
    "modify_list(lst)\n",
    "print(lst)               # [5, 4]\n",
    "```\n",
    "Функция не должна осуществлять ввод/вывод информации."
   ]
  },
  {
   "cell_type": "code",
   "execution_count": 9,
   "metadata": {},
   "outputs": [],
   "source": [
    "def modify_list(l):\n",
    "    for i in range(len(l)-1,-1,-1):\n",
    "        if l[i] % 2 != 0:\n",
    "            l.remove(l[i])\n",
    "    for j in range(len(l)):\n",
    "        l[j] = l[j] // 2"
   ]
  },
  {
   "cell_type": "code",
   "execution_count": 16,
   "metadata": {},
   "outputs": [
    {
     "name": "stdout",
     "output_type": "stream",
     "text": [
      "None\n",
      "[1, 2, 3]\n",
      "[1]\n"
     ]
    }
   ],
   "source": [
    "lst = [1, 2, 3, 4, 5, 6]\n",
    "print(modify_list(lst))  \n",
    "print(lst)               \n",
    "modify_list(lst)\n",
    "print(lst)   "
   ]
  },
  {
   "cell_type": "markdown",
   "metadata": {},
   "source": [
    "## ЗАДАЧА\n",
    "Напишите функцию update_dictionary(d, key, value), которая принимает на вход словарь d и два числа: key и value.\n",
    "\n",
    "Если ключ key есть в словаре d, то добавьте значение valuevalue в список, который хранится по этому ключу.\n",
    "Если ключа key нет в словаре, то нужно добавить значение в список по ключу 2 * key. Если и ключа 2 * key нет, то нужно добавить ключ 2 * key в словарь и сопоставить ему список из переданного элемента [value].\n",
    "\n",
    "Требуется реализовать только эту функцию, кода вне неё не должно быть.\n",
    "Функция не должна вызывать внутри себя функции input и print.\n",
    "\n",
    "Пример работы функции:\n",
    "\n",
    "```python\n",
    "d = {}\n",
    "print(update_dictionary(d, 1, -1))  # None\n",
    "print(d)                            # {2: [-1]}\n",
    "update_dictionary(d, 2, -2)\n",
    "print(d)                            # {2: [-1, -2]}\n",
    "update_dictionary(d, 1, -3)\n",
    "print(d)                            # {2: [-1, -2, -3]}\n",
    "```"
   ]
  },
  {
   "cell_type": "code",
   "execution_count": 14,
   "metadata": {},
   "outputs": [],
   "source": [
    "def update_dictionary(d, key, value):\n",
    "    # put your python code here\n",
    "    if key in d:\n",
    "        d[key].append(value)\n",
    "    else:\n",
    "        if 2 * key in d:\n",
    "            d[2*key].append(value)\n",
    "        else:\n",
    "            d[2*key] = [value]"
   ]
  },
  {
   "cell_type": "code",
   "execution_count": 15,
   "metadata": {},
   "outputs": [
    {
     "name": "stdout",
     "output_type": "stream",
     "text": [
      "None\n",
      "{2: [-1]}\n",
      "{2: [-1, -2]}\n",
      "{2: [-1, -2, -3]}\n"
     ]
    }
   ],
   "source": [
    "d = {}\n",
    "print(update_dictionary(d, 1, -1))  # None\n",
    "print(d)                            # {2: [-1]}\n",
    "update_dictionary(d, 2, -2)\n",
    "print(d)                            # {2: [-1, -2]}\n",
    "update_dictionary(d, 1, -3)\n",
    "print(d)           "
   ]
  },
  {
   "cell_type": "code",
   "execution_count": null,
   "metadata": {},
   "outputs": [],
   "source": []
  }
 ],
 "metadata": {
  "kernelspec": {
   "display_name": "Python 3",
   "language": "python",
   "name": "python3"
  },
  "language_info": {
   "codemirror_mode": {
    "name": "ipython",
    "version": 3
   },
   "file_extension": ".py",
   "mimetype": "text/x-python",
   "name": "python",
   "nbconvert_exporter": "python",
   "pygments_lexer": "ipython3",
   "version": "3.7.6"
  }
 },
 "nbformat": 4,
 "nbformat_minor": 4
}
